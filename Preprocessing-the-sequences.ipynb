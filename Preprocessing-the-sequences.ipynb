{
 "cells": [
  {
   "cell_type": "code",
   "execution_count": 1,
   "metadata": {},
   "outputs": [],
   "source": [
    "import re   \n",
    "import os\n",
    "import glob "
   ]
  },
  {
   "cell_type": "code",
   "execution_count": 12,
   "metadata": {},
   "outputs": [
    {
     "name": "stdout",
     "output_type": "stream",
     "text": [
      "../data-scrapes\n"
     ]
    }
   ],
   "source": [
    "scrape_dir = os.path.join('..', 'data-scrapes')\n",
    "print(scrape_dir)"
   ]
  },
  {
   "cell_type": "code",
   "execution_count": 3,
   "metadata": {},
   "outputs": [
    {
     "name": "stdout",
     "output_type": "stream",
     "text": [
      "Converting sequences ... \n",
      "Writing to: ../data/protein-seqs-2020-03-04-205452.txt\n"
     ]
    }
   ],
   "source": [
    "import datetime, time\n",
    "ts = time.time()\n",
    "st = datetime.datetime.fromtimestamp(ts).strftime('%Y-%m-%d-%H%M%S')\n",
    "\n",
    "print(\"Converting sequences ... \")\n",
    "out_file = os.path.join('..', 'data', 'protein-seqs-' + st + '.txt')\n",
    "\n",
    "print(\"Writing to: %s\" % out_file)"
   ]
  },
  {
   "cell_type": "code",
   "execution_count": 4,
   "metadata": {},
   "outputs": [
    {
     "name": "stdout",
     "output_type": "stream",
     "text": [
      "['../data-scrapes/all-human-0001.fasta']\n"
     ]
    }
   ],
   "source": [
    "num_proteins_done = 50\n",
    "fasta_files = glob.glob(scrape_dir + \"/*.fasta\") \n",
    "print(fasta_files)"
   ]
  },
  {
   "cell_type": "code",
   "execution_count": 6,
   "metadata": {},
   "outputs": [],
   "source": [
    "def dump_to_file(protein_id, sequence):\n",
    "    with open(out_file, \"a\") as f:\n",
    "        f.write(protein_id + \",\" + sequence + \"\\n\")"
   ]
  },
  {
   "cell_type": "code",
   "execution_count": 8,
   "metadata": {},
   "outputs": [
    {
     "name": "stdout",
     "output_type": "stream",
     "text": [
      "Converting: ../data-scrapes/all-human-0001.fasta: \n"
     ]
    }
   ],
   "source": [
    "for fname in fasta_files:\n",
    "    print(\"Converting: %s: \" % fname)\n",
    "    proteins = {}   \n",
    "    with open (fname, 'r') as f:\n",
    "        protein_seq = ''\n",
    "        protein_id = ''\n",
    "        for line in f:    \n",
    "            match = re.search(r'^>([a-z]{2})\\|([A-Z0-9]*)\\|', line) \n",
    "            if match:\n",
    "                if protein_id != '': \n",
    "                    dump_to_file(protein_id, protein_seq)   \n",
    "                num_proteins_done += 1 \n",
    "                if num_proteins_done > 10: break   \n",
    "                protein_id = match.group(2)\n",
    "                protein_seq = ''   \n",
    "            else:\n",
    "                protein_seq += line.strip() \n",
    "        if protein_id != '': \n",
    "            dump_to_file(protein_id, protein_seq)"
   ]
  },
  {
   "cell_type": "code",
   "execution_count": 9,
   "metadata": {},
   "outputs": [
    {
     "name": "stdout",
     "output_type": "stream",
     "text": [
      "Converting functions ...\n",
      "../data/protein-functions-2020-03-04-205452.txt\n"
     ]
    }
   ],
   "source": [
    "print(\"Converting functions ...\") \n",
    "out_file_fns = os.path.join('..', 'data', 'protein-functions-' + st + '.txt')\n",
    "print(out_file_fns)\n",
    "target_functions = ['0005524']   # just ATP binding for now "
   ]
  },
  {
   "cell_type": "code",
   "execution_count": 10,
   "metadata": {},
   "outputs": [
    {
     "name": "stdout",
     "output_type": "stream",
     "text": [
      "['../data-scrapes/all-human-0001-annotations.txt']\n"
     ]
    }
   ],
   "source": [
    "annot_files = glob.glob(scrape_dir + \"/*annotations.txt\")\n",
    "print(annot_files)"
   ]
  },
  {
   "cell_type": "code",
   "execution_count": 11,
   "metadata": {},
   "outputs": [
    {
     "name": "stdout",
     "output_type": "stream",
     "text": [
      "['P27361', 'P53779', 'Q9UHC1', 'Q9NYL2', 'O15440', 'P33527', 'Q92887', 'O15438', 'O15439', 'Q5T3U5']\n"
     ]
    }
   ],
   "source": [
    "has_function = [] \n",
    "\n",
    "for fname in annot_files:\n",
    "    with open (fname, 'r') as f:\n",
    "        for line in f:\n",
    "            match = re.search(r'([A-Z0-9]*)\\sGO:(.*);\\sF:.*;', line)\n",
    "            if match:\n",
    "                # we got the match correctly (should always happen)\n",
    "                protein_id = match.group(1)\n",
    "                function = match.group(2)\n",
    "                \n",
    "                if function not in target_functions:\n",
    "                        continue\n",
    "                        \n",
    "                # We found the function for this protein, so the class will be 'True'\n",
    "                has_function.append(protein_id) \n",
    "          \n",
    "    import json\n",
    "    with open(out_file_fns, 'w') as fp:\n",
    "        json.dump(has_function, fp)\n",
    "        \n",
    "    print(has_function[:10])"
   ]
  },
  {
   "cell_type": "code",
   "execution_count": null,
   "metadata": {},
   "outputs": [],
   "source": []
  }
 ],
 "metadata": {
  "kernelspec": {
   "display_name": "Python 3",
   "language": "python",
   "name": "python3"
  },
  "language_info": {
   "codemirror_mode": {
    "name": "ipython",
    "version": 3
   },
   "file_extension": ".py",
   "mimetype": "text/x-python",
   "name": "python",
   "nbconvert_exporter": "python",
   "pygments_lexer": "ipython3",
   "version": "3.6.8"
  }
 },
 "nbformat": 4,
 "nbformat_minor": 2
}
